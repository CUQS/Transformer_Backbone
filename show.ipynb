{
 "cells": [
  {
   "cell_type": "code",
   "execution_count": 10,
   "metadata": {},
   "outputs": [],
   "source": [
    "import pandas as pd\n",
    "import matplotlib.pyplot as plt\n",
    "data = pd.read_csv(\"backbone_performance.csv\")"
   ]
  },
  {
   "cell_type": "code",
   "execution_count": null,
   "metadata": {},
   "outputs": [],
   "source": [
    "# sort_values = \"FLOPs(B)\"\n",
    "sort_values = \"Params(M)\"\n",
    "\n",
    "df = data[data[sort_values]>0]\n",
    "df = df[df[sort_values]<700]\n",
    "# df = data[data[\"TrainSet\"]!=\"ImageNet-1K+JFT-3B\"]\n",
    "\n",
    "groups = df.groupby(\"Method\")\n",
    "fig, ax = plt.subplots(figsize=(72.0, 54.0))\n",
    "ax.margins(0.05)\n",
    "for name, group in groups:\n",
    "    group_max_idx = group.groupby(['Model'])['Acc'].transform(max) == group['Acc']\n",
    "    group_t = group[group_max_idx]\n",
    "    group_t = group_t.sort_values(sort_values)\n",
    "    ax.plot(group_t[sort_values], group_t[\"Acc\"], marker='o', linestyle='-', ms=5, label=name)\n",
    "    for k, v in group_t.iterrows():\n",
    "        ax.annotate(v['Model']+\"_\"+str(v['Size']), [v[sort_values], v['Acc']],\n",
    "                    xytext=(-10,5), textcoords='offset points',\n",
    "                    family='sans-serif', fontsize=15, color='darkslategrey')\n",
    "\n",
    "fig.tight_layout()\n",
    "plt.legend(fontsize=20,loc='lower right')\n",
    "plt.tick_params(labelsize=20)\n",
    "plt.show()"
   ]
  },
  {
   "cell_type": "code",
   "execution_count": null,
   "metadata": {},
   "outputs": [],
   "source": []
  }
 ],
 "metadata": {
  "interpreter": {
   "hash": "45517e02384be487d7d1246876b492348a3964e5cde6ed4a7bf9bc387729081d"
  },
  "kernelspec": {
   "display_name": "Python 3.8.0 64-bit ('py38': conda)",
   "language": "python",
   "name": "python3"
  },
  "language_info": {
   "codemirror_mode": {
    "name": "ipython",
    "version": 3
   },
   "file_extension": ".py",
   "mimetype": "text/x-python",
   "name": "python",
   "nbconvert_exporter": "python",
   "pygments_lexer": "ipython3",
   "version": "3.8.0"
  },
  "orig_nbformat": 4
 },
 "nbformat": 4,
 "nbformat_minor": 2
}
